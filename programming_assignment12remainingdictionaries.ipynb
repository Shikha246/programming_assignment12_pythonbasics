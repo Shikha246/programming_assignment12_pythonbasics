{
 "cells": [
  {
   "cell_type": "markdown",
   "id": "f55ab712",
   "metadata": {},
   "source": [
    "## 1. Write a Python program to Extract Unique values dictionary values?"
   ]
  },
  {
   "cell_type": "code",
   "execution_count": 9,
   "id": "5b2bc99d",
   "metadata": {},
   "outputs": [
    {
     "name": "stdout",
     "output_type": "stream",
     "text": [
      "57\n",
      "68\n",
      "70\n"
     ]
    }
   ],
   "source": [
    "dict1={\"Harish\":70,\"Soham\":68,\"Kiara\":68,\"Kim\":57}\n",
    "for marks in set(dict1.values()):\n",
    "    print(marks)"
   ]
  },
  {
   "cell_type": "markdown",
   "id": "e4a96028",
   "metadata": {},
   "source": [
    "## 2. Write a Python program to find the sum of all items in a dictionary?"
   ]
  },
  {
   "cell_type": "code",
   "execution_count": 10,
   "id": "8741adc3",
   "metadata": {},
   "outputs": [
    {
     "name": "stdout",
     "output_type": "stream",
     "text": [
      "The sum of all items in dictionary is 263\n"
     ]
    }
   ],
   "source": [
    "#method 1\n",
    "dict1={\"Harish\":70,\"Soham\":68,\"Kiara\":68,\"Kim\":57}\n",
    "sum=0\n",
    "for i in dict1.values():\n",
    "    sum=sum+i\n",
    "print(f\"The sum of all items in dictionary is {sum}\")"
   ]
  },
  {
   "cell_type": "markdown",
   "id": "676381b4",
   "metadata": {},
   "source": [
    "## 3. Write a Python program to Merging two Dictionaries?"
   ]
  },
  {
   "cell_type": "code",
   "execution_count": 16,
   "id": "c451aff0",
   "metadata": {},
   "outputs": [
    {
     "name": "stdout",
     "output_type": "stream",
     "text": [
      "{1: 'one', 2: 'two', 3: 'three', 4: 'four', 5: 'five', 6: 'six'}\n"
     ]
    }
   ],
   "source": [
    "#method1\n",
    "d1={1:\"one\", 2:\"two\", 3:\"three\"}\n",
    "d2={4:\"four\",5:\"five\",6:\"six\"}\n",
    "d1.update(d2)\n",
    "print(d1)"
   ]
  },
  {
   "cell_type": "code",
   "execution_count": 18,
   "id": "e5c1fe4d",
   "metadata": {},
   "outputs": [
    {
     "name": "stdout",
     "output_type": "stream",
     "text": [
      "{1: 'one', 2: 'two', 3: 'three', 4: 'four', 5: 'five', 6: 'six'}\n"
     ]
    }
   ],
   "source": [
    "#**keywordargs\n",
    "#method2\n",
    "d1={1:\"one\", 2:\"two\", 3:\"three\"}\n",
    "d2={4:\"four\",5:\"five\",6:\"six\"}\n",
    "d3={**d1,**d2}\n",
    "print(d3)"
   ]
  },
  {
   "cell_type": "markdown",
   "id": "a6a83156",
   "metadata": {},
   "source": [
    "## 4. Write a Python program to convert key-values list to flat dictionary?"
   ]
  },
  {
   "cell_type": "code",
   "execution_count": 22,
   "id": "659c6d94",
   "metadata": {},
   "outputs": [
    {
     "name": "stdout",
     "output_type": "stream",
     "text": [
      "{'key1': '1', 'key2': {'a': '2', 'b': '3', 'c': {'d': '3', 'c': {'': '1'}}}}\n",
      "{'key1': '1', 'key2': {'a': '2', 'b': '3', 'c': {'d': '3', 'c': {'': '1'}}}}\n"
     ]
    }
   ],
   "source": [
    "def flatten_dictionary(dictionary):\n",
    "    def recursor(parentK,givenVal):\n",
    "        if type(givenVal)!=dict:\n",
    "            o[parentK]=givenVal\n",
    "            return\n",
    "        else:\n",
    "            for eachChildK in givenVal.keys():\n",
    "                if eachChildK==\"\":\n",
    "                    recursor(parentK,givenVal[eachChildK])\n",
    "                else:\n",
    "                    if parentK !=\"\":\n",
    "                        recursor(parentK+\".\"+eachChildK,givenVal[eachChildK])\n",
    "                    else:\n",
    "                        recursor(eachchildK,givenVal[eachChildK])\n",
    "    o={}\n",
    "    for eachK in dictionary.keys():\n",
    "        recursor(eachK,dictionary[eachK])\n",
    "    return o\n",
    "dict1={\n",
    "   \"key1\" : \"1\",\n",
    "    \"key2\" : {\n",
    "        \"a\" : \"2\",\n",
    "        \"b\" : \"3\",\n",
    "        \"c\" : {\n",
    "            \"d\": \"3\",\n",
    "            \"c\" : {\n",
    "                \"\" : \"1\"\n",
    "            }\n",
    "        }\n",
    "    }\n",
    "}\n",
    "print(dict1)\n",
    "print(flatten_dictionary(dict1))\n"
   ]
  },
  {
   "cell_type": "markdown",
   "id": "56469ab3",
   "metadata": {},
   "source": [
    "## 5. Write a Python program to insertion at the beginning in OrderedDict?"
   ]
  },
  {
   "cell_type": "code",
   "execution_count": 1,
   "id": "accac3f2",
   "metadata": {},
   "outputs": [
    {
     "name": "stdout",
     "output_type": "stream",
     "text": [
      "OrderedDict([('akshat', '1'), ('nikhil', '2'), ('manjeet', '3')])\n",
      "Resultant Dictionary : OrderedDict([('manjeet', '3'), ('akshat', '1'), ('nikhil', '2')])\n"
     ]
    }
   ],
   "source": [
    "# Python code to demonstrate\n",
    "# insertion of items in beginning of ordered dict\n",
    "from collections import OrderedDict\n",
    "\n",
    "# initialising ordered_dict\n",
    "iniordered_dict = OrderedDict([('akshat', '1'), ('nikhil', '2')])\n",
    "\n",
    "# inserting items in starting of dict\n",
    "iniordered_dict.update({'manjeet':'3'})\n",
    "print(iniordered_dict)\n",
    "iniordered_dict.move_to_end('manjeet', last = False)\n",
    "\n",
    "# print result\n",
    "print (\"Resultant Dictionary : \"+str(iniordered_dict))\n"
   ]
  },
  {
   "cell_type": "markdown",
   "id": "9ccd9ed1",
   "metadata": {},
   "source": [
    "## 6. Write a Python program to check order of character in string using OrderedDict()?"
   ]
  },
  {
   "cell_type": "markdown",
   "id": "69a380a5",
   "metadata": {},
   "source": [
    "## 7. Write a Python program to sort Python Dictionaries by Key or Value?"
   ]
  },
  {
   "cell_type": "code",
   "execution_count": 6,
   "id": "52cf9225",
   "metadata": {},
   "outputs": [
    {
     "name": "stdout",
     "output_type": "stream",
     "text": [
      "Keys:dict_keys(['Harish', 'Soham', 'Kiara', 'Kim'])\n",
      "Values:dict_values([70, 80, 68, 57])\n"
     ]
    }
   ],
   "source": [
    "dict1={\"Harish\":70,\"Soham\":80,\"Kiara\":68,\"Kim\":57}\n",
    "my_keys=dict1.keys()\n",
    "my_values=dict1.values()\n",
    "print(f\"Keys:{my_keys}\")\n",
    "print(f\"Values:{my_values}\")\n"
   ]
  },
  {
   "cell_type": "code",
   "execution_count": null,
   "id": "2182594f",
   "metadata": {},
   "outputs": [],
   "source": []
  }
 ],
 "metadata": {
  "kernelspec": {
   "display_name": "Python 3 (ipykernel)",
   "language": "python",
   "name": "python3"
  },
  "language_info": {
   "codemirror_mode": {
    "name": "ipython",
    "version": 3
   },
   "file_extension": ".py",
   "mimetype": "text/x-python",
   "name": "python",
   "nbconvert_exporter": "python",
   "pygments_lexer": "ipython3",
   "version": "3.9.7"
  }
 },
 "nbformat": 4,
 "nbformat_minor": 5
}
